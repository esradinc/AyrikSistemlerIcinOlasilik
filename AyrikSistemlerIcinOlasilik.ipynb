{
  "nbformat": 4,
  "nbformat_minor": 0,
  "metadata": {
    "colab": {
      "provenance": [],
      "toc_visible": true
    },
    "kernelspec": {
      "name": "python3",
      "display_name": "Python 3"
    },
    "language_info": {
      "name": "python"
    }
  },
  "cells": [
    {
      "cell_type": "markdown",
      "source": [
        "# Kombinasyon"
      ],
      "metadata": {
        "id": "MWGjbT6LzcAb"
      }
    },
    {
      "cell_type": "markdown",
      "source": [
        "SORU:\n",
        "5 doktora 6 yüksek lisans ve 8 lisans öğrencisi arasından 7 kişilik bir proje ekibi oluşturulacaktır. Bu ekipte 2 doktora 3 yüksek lisans ve 2 lisans öğrencisi bulunacğaına göre bu ekip kaç farklı biçimde oluşturulabilir?"
      ],
      "metadata": {
        "id": "MptzZFUhzxoC"
      }
    },
    {
      "cell_type": "markdown",
      "source": [
        "Kombinasyon :\n",
        "C(n,r)= n!/r!*(n-r)! formülü ile hesaplanır.\n",
        "\n",
        "* 5 doktora öğrencisi arasından 2 öğrenci seçme işlemi C(5,2) = 5!/2!*(5-2)! = 10\n",
        "*   6 yüksek lisans öğrencisi arasından 3 öğrenci seçme işlemi C(6,3) = 6!/3!*(6-3)! = 20\n",
        "*  8 lisans öğrencisi arasından 2 öğrenci seçme işlemi C(8,2) = 8!/2!*(8-2)! = 28\n",
        "\n",
        "  farklı şekilde seçilebilir.\n",
        "\n",
        "Son olarak, tüm bu seçimlerin birleştirilmiş sayısı, her bir seviyedeki seçimlerin kombinasyonlarının çarpımı ile bulunur:\n",
        "\n",
        "    C(5,2) x C(6,3) x C(8,2) = 10 x 20 x 28 = 5600\n",
        "\n",
        "Sonuç olarak, ekipte 2 doktora, 3 yüksek lisans ve 2 lisans öğrencisi olan 7 kişilik bir proje ekibi 5600 farklı şekilde oluşturulabilir.\n"
      ],
      "metadata": {
        "id": "d8PlA9NRz0y2"
      }
    },
    {
      "cell_type": "code",
      "source": [
        "def factorial(n):\n",
        "    if n == 0 or n == 1:\n",
        "        return 1\n",
        "    else:\n",
        "        result = 1\n",
        "        for i in range(2, n + 1):\n",
        "            result *= i\n",
        "        return result"
      ],
      "metadata": {
        "id": "69caWC-lzjBq"
      },
      "execution_count": null,
      "outputs": []
    },
    {
      "cell_type": "code",
      "source": [
        "def combination(n, r):\n",
        "    if r > n:\n",
        "        return 0\n",
        "    return factorial(n) / (factorial(r) * factorial(n - r))"
      ],
      "metadata": {
        "id": "PKsaDm5TzkOP"
      },
      "execution_count": null,
      "outputs": []
    },
    {
      "cell_type": "code",
      "source": [
        "doktoralı_ogrenci_sayisi = 5\n",
        "yuksek_lisans_ogrenci_sayisi = 6\n",
        "lisans_ogrenci_sayisi = 8\n",
        "\n",
        "secilecek_doktorali_ogrenci_sayisi = 2\n",
        "secilecek_yuksek_lisans_ogrenci_sayisi = 3\n",
        "secilecek_lisans_ogrenci_sayisi = 2\n",
        "\n",
        "doktoraOgrenciSecimi= combination(doktoralı_ogrenci_sayisi,secilecek_doktorali_ogrenci_sayisi)\n",
        "yuksekLisansOgrenciSecimi = combination(yuksek_lisans_ogrenci_sayisi, secilecek_yuksek_lisans_ogrenci_sayisi)\n",
        "lisansOgrenciSecimi = combination(lisans_ogrenci_sayisi, secilecek_lisans_ogrenci_sayisi)\n",
        "\n",
        "sonuc = doktoraOgrenciSecimi * yuksekLisansOgrenciSecimi * lisansOgrenciSecimi\n",
        "\n",
        "print(f\"Seçim {int(sonuc)} farklı şekilde yapılır.\")"
      ],
      "metadata": {
        "id": "ZPqLG0h0zljo",
        "colab": {
          "base_uri": "https://localhost:8080/"
        },
        "outputId": "c7bcb1c2-fa90-401d-9e86-bbbcc12daf48"
      },
      "execution_count": null,
      "outputs": [
        {
          "output_type": "stream",
          "name": "stdout",
          "text": [
            "Seçim 5600 farklı şekilde yapılır.\n"
          ]
        }
      ]
    },
    {
      "cell_type": "markdown",
      "source": [
        "# Permütasyon"
      ],
      "metadata": {
        "id": "A5RmuVUb3abn"
      }
    },
    {
      "cell_type": "markdown",
      "source": [
        "SORU: Tüm karakterleri birbirinden farklı ve sadece rakamlardan oluşan 7 haneli bir şifre oluşturulacaktır. İlk karakteri 0 olmayacak şekilde kaç farklı şifre oluşturuabilir?"
      ],
      "metadata": {
        "id": "9QgPfl695mMF"
      }
    },
    {
      "cell_type": "markdown",
      "source": [
        "Permütasyon : P(n,r)= n!/(n-r)! formülü ile hesaplanır.\n",
        "\n",
        "Toplam 10 adet rakam vardır.\n",
        "* Şifrenin ilk hanesi 0 olamaz. Bu nedenle, ilk hane için 1'den 9'a kadar olan rakamlar kullanılabilir. İlk haneyi doldurmak için 9 seçenek vardır.\n",
        "\n",
        "* Geri kalan 6 hane için, toplam 10 rakam (0-9) arasında, ilk hane için kullanılan rakam hariç, 9 rakam kalacaktır. Bu 9 rakamdan geri kalan 6 haneyi permütasyonla hasaplarız. P(9,6)= 9!/(9-6)! = 60,480.\n",
        "\n",
        "\n",
        "Sonuç olarak, toplamda:\n",
        "İlk hane için kullanabilecek seçenek sayısı x kalan 6 hane için kullanılabilecek seçenek sayısı ile toplamda kaç farklı şifre oluşturabileceğimizi hesaplayabiliriz.\n",
        "\n",
        "    9 x P(9,6) = 544,320 farklı şifre oluşturulabilir.\n"
      ],
      "metadata": {
        "id": "Seodg4Lv6A8o"
      }
    },
    {
      "cell_type": "code",
      "source": [
        "def factorial(n):\n",
        "    if n == 0 or n == 1:\n",
        "        return 1\n",
        "    else:\n",
        "        result = 1\n",
        "        for i in range(2, n + 1):\n",
        "            result *= i\n",
        "        return result"
      ],
      "metadata": {
        "id": "MFgDBFB63ciD"
      },
      "execution_count": null,
      "outputs": []
    },
    {
      "cell_type": "code",
      "source": [
        "def permutation(n, r):\n",
        "    if r > n or n < 0 or r < 0:\n",
        "        return None\n",
        "    else:\n",
        "        return factorial(n) / factorial(n - r)"
      ],
      "metadata": {
        "id": "4g2VYzzB3e7-"
      },
      "execution_count": null,
      "outputs": []
    },
    {
      "cell_type": "code",
      "source": [
        "toplam_rakam_sayisi = 10\n",
        "sifre_karakter_sayisi = 7\n",
        "ilk_karakter_icin_secenek = 9\n",
        "sonuc= ilk_karakter_icin_secenek * permutation(10,7)\n",
        "print(f\"Rakamları birbirinden farklı ve ilk rakamı 0 olmayan {int(sonuc)} farklı şifre oluşturulabilir.\")"
      ],
      "metadata": {
        "colab": {
          "base_uri": "https://localhost:8080/"
        },
        "id": "0isjtVZ34J0G",
        "outputId": "e2300e77-fcd1-4717-fbd0-b030f9e103d7"
      },
      "execution_count": null,
      "outputs": [
        {
          "output_type": "stream",
          "name": "stdout",
          "text": [
            "Rakamları birbirinden farklı ve ilk rakamı 0 olmayan 5443200 farklı şifre oluşturulabilir.\n"
          ]
        }
      ]
    },
    {
      "cell_type": "markdown",
      "source": [
        "# Güvercin Yuvası Yasası"
      ],
      "metadata": {
        "id": "WGm5vBzSCw-w"
      }
    },
    {
      "cell_type": "markdown",
      "source": [
        "Soru: Bir kitap kulübü 20 kişiden oluşmaktadır ve her üye aylık olarak bir kitap seçmektedir. Üyeler, kitap seçimlerini 10 farklı kategori arasından yapmaktadır. Bir ay boyunca 20 kişinin her birinin bir kategori seçmesi sonucunda, en az iki kişinin aynı kategoriyi seçtiği garantisini sağlar mısınız?"
      ],
      "metadata": {
        "id": "Rs18ottXYpcR"
      }
    },
    {
      "cell_type": "markdown",
      "source": [
        "* Kitap kulübü 20 kişiden oluşuyor ve her üye 10 farklı kategoriden birini seçiyor.\n",
        "* Bu durumda, 20 kişi ve 10 kategori arasında bir ilişki vardır. Eğer 20 kişi 10 kategori arasında bir tercih yapıyorsa, Güvercin Yuvası Yasası'na göre en az iki kişinin aynı kategoriyi seçmesi kaçınılmazdır, çünkü 20 kişi 10 kategoriden birini seçerken en az bir kategori için en az iki kişi seçim yapmış olacaktır."
      ],
      "metadata": {
        "id": "ixcwuKDEY5ag"
      }
    },
    {
      "cell_type": "code",
      "source": [
        "import random\n",
        "from collections import Counter\n",
        "\n",
        "def simulate_book_club():\n",
        "    num_people = 20\n",
        "    num_categories = 10\n",
        "    chosen_categories = [random.randint(1, num_categories) for _ in range(num_people)]\n",
        "    category_counts = Counter(chosen_categories)\n",
        "\n",
        "    # En az iki kişinin aynı kategoriyi seçtiğini kontrol etme\n",
        "    for category, count in category_counts.items():\n",
        "        if count > 1:\n",
        "            print(f\"En az iki kişi aynı kategoriyi seçti: Kategori {category}\")\n",
        "            print(f\"Seçilen kategoriler: {chosen_categories}\")\n",
        "            return\n",
        "\n",
        "    # Aynı kategoriyi seçen kişi yoksa\n",
        "    print(\"Hiçbir iki kişi aynı kategoriyi seçmedi.\")\n",
        "    print(f\"Seçilen kategoriler: {chosen_categories}\")\n",
        "\n",
        "simulate_book_club()\n"
      ],
      "metadata": {
        "colab": {
          "base_uri": "https://localhost:8080/"
        },
        "id": "MNK1X1VmYaDk",
        "outputId": "5ca0ad55-ba7c-4d9a-e4fa-9b2a5a562441"
      },
      "execution_count": 7,
      "outputs": [
        {
          "output_type": "stream",
          "name": "stdout",
          "text": [
            "En az iki kişi aynı kategoriyi seçti: Kategori 9\n",
            "Seçilen kategoriler: [9, 3, 6, 6, 9, 10, 6, 10, 1, 1, 8, 10, 7, 3, 3, 2, 1, 10, 7, 6]\n"
          ]
        }
      ]
    }
  ]
}